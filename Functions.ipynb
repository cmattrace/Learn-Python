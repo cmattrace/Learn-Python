{
 "cells": [
  {
   "cell_type": "markdown",
   "metadata": {},
   "source": [
    "# Functions\n",
    "These are named block of codes which are designed to do a specific task or job. If you need to perform certain tasks over multiple time in your programme, with the help of functions you do not need to keep repeating the same block of code again and again. Just call the function when you need to perform the task without having to retype the code block."
   ]
  },
  {
   "cell_type": "code",
   "execution_count": null,
   "metadata": {},
   "outputs": [],
   "source": [
    "def customer_care():\n",
    "    user_name = input(\"Hello!, what's your name: \\n\")\n",
    "    user_gender = input(\"Sex: (M / F)? \\n\")\n",
    "    user_m_status = input(\"Single or Married  (S / M)? \\n\")\n",
    "    user_request = input(\"Please how may I help you: \\n\")\n",
    "    print(\"\\n\")\n",
    "    if user_gender.lower() == \"f\" and user_m_status.lower() == \"m\":\n",
    "        print(f\"Hello Mrs. {user_name.title()}, we have got you complaint on '{user_request}'\")\n",
    "        print(\"Please be patient and hold-on a customer care personnel will soon attend to you.\")\n",
    "        print(\"Thanks!\")\n",
    "    elif user_gender.lower() == \"f\" and user_m_status.lower() == \"s\":\n",
    "        print(f\"Hello Miss. {user_name.title()}, we have got you complaint on '{user_request}'\")\n",
    "        print(\"Please be patient and hold-on a customer care personnel will soon attend to you.\")\n",
    "        print(\"Thanks!\")\n",
    "    elif user_gender.lower() == \"m\" or user_m_status.lower() == \"s\":\n",
    "        print(f\"Hello Mr. {user_name.title()}, we have got you complaint on '{user_request}'\")\n",
    "        print(\"Please be patient and hold-on a customer care personnel will soon attend to you.\")\n",
    "        print(\"Thanks!\")\n",
    "    else:\n",
    "        print(\"Hooooh, please cross-check your user data submitted \\n\")\n",
    "print(\"\\n\")        \n",
    "customer_care()\n",
    "print(\"\\n\")"
   ]
  },
  {
   "cell_type": "markdown",
   "metadata": {},
   "source": [
    "# KeyWord Arguments\n",
    "A keyword argument is a name-value pair that you pass to a function. You directly or explicitly associate the name and the value within the arguments, so that when you pass the arguments there wouldn't any confusion or mistake of not placing the arguments in right order with the parameters.\n",
    "\n",
    "When you use keyword arguments, be sure to use the exat names of the parameters in the function's definition"
   ]
  },
  {
   "cell_type": "code",
   "execution_count": null,
   "metadata": {},
   "outputs": [],
   "source": [
    "def whoami(name, gender):\n",
    "    print(f\"My name is {name.title()} and I am {gender.title()}\")\n",
    "whoami(\"Mike\", \"Male\")    "
   ]
  },
  {
   "cell_type": "code",
   "execution_count": null,
   "metadata": {},
   "outputs": [],
   "source": [
    "whoami(gender=\"female\", name=\"ann\")"
   ]
  },
  {
   "cell_type": "code",
   "execution_count": null,
   "metadata": {},
   "outputs": [],
   "source": [
    "whoami(\"female\", \"ann\")"
   ]
  },
  {
   "cell_type": "markdown",
   "metadata": {},
   "source": [
    "# Default Values\n",
    "When writing a function you define a default value for each parameter. If the argument for a parameter is provided python uses it at function call, but if not, python uses the default value of the parameter. Example below:"
   ]
  },
  {
   "cell_type": "code",
   "execution_count": null,
   "metadata": {},
   "outputs": [],
   "source": [
    "def iamwoman(name, gender = \"female\"):\n",
    "    print(f\"My name is {name.title()} and I am a {gender.title()}\")\n",
    "\n",
    "iamwoman(\"mike\", \"male\")"
   ]
  },
  {
   "cell_type": "code",
   "execution_count": null,
   "metadata": {},
   "outputs": [],
   "source": [
    "iamwoman(\"jenny\")"
   ]
  },
  {
   "cell_type": "markdown",
   "metadata": {},
   "source": [
    "# Working with Linear Search Algorithm"
   ]
  },
  {
   "cell_type": "code",
   "execution_count": null,
   "metadata": {},
   "outputs": [],
   "source": [
    "# Returns the index of the target if found, else returns none\n",
    "def linear_search(list, target):\n",
    "    for i in range(0, len(list)):\n",
    "        if list[i] == target:\n",
    "            return i\n",
    "    return None\n",
    "\n",
    "# Create a function that will verify the linear search func\n",
    "def verify(index):\n",
    "    if index is not None:\n",
    "        print(f\"Target found at index: {index}\")\n",
    "    else:\n",
    "        print(\"Target not found\")\n",
    "\n",
    "# made list of numbers and items to search through\n",
    "numbers = list(range(21))\n",
    "my_items = [\"Rice\", \"beans\", \"Garri\", \"Onion\", \n",
    "            \"Tomato\", \"Maggi\", \"Curry\", \"Salt\"]\n",
    "\n",
    "# Created a variable object of linear_search func & called the verify func\n",
    "result = linear_search(numbers, 15)\n",
    "final_result = verify(result)\n",
    "\n",
    "get_item = linear_search(my_items, \"beta\")\n",
    "my_item = verify(get_item)"
   ]
  },
  {
   "cell_type": "markdown",
   "metadata": {},
   "source": [
    "# Working with Binary Search Algorithm"
   ]
  },
  {
   "cell_type": "code",
   "execution_count": null,
   "metadata": {},
   "outputs": [],
   "source": [
    "def binary_search(list, target):\n",
    "    \n",
    "    first_element = 0\n",
    "    last_element = len(list) - 1\n",
    "    \n",
    "    while first_element <= last_element:\n",
    "        midpoint = (first_element + last_element)//2\n",
    "        \n",
    "        if list[midpoint] == target:\n",
    "            return midpoint\n",
    "        elif list[midpoint] < target:\n",
    "            first_element = midpoint + 1\n",
    "        else:\n",
    "            last_element = midpoint - 1\n",
    "    return None\n",
    "\n",
    "\n",
    "# Create a function that will verify the linear search func\n",
    "def verify(index):\n",
    "    if index is not None:\n",
    "        print(f\"Target found at index: {index}\")\n",
    "    else:\n",
    "        print(\"Target not found\")\n",
    "\n",
    "# made list of numbers and items to search through\n",
    "numbers = list(range(21))\n",
    "my_items = [\"Rice\", \"beans\", \"Garri\", \"Onion\", \n",
    "            \"Tomato\", \"Maggi\", \"Curry\", \"Salt\"]\n",
    "\n",
    "# Created a variable object of linear_search func & called the verify func\n",
    "result = binary_search(numbers, 15)\n",
    "final_result = verify(result)\n",
    "\n",
    "get_item = binary_search(my_items, \"beta\")\n",
    "my_item = verify(get_item)"
   ]
  },
  {
   "cell_type": "code",
   "execution_count": null,
   "metadata": {},
   "outputs": [],
   "source": []
  }
 ],
 "metadata": {
  "kernelspec": {
   "display_name": "Python 3",
   "language": "python",
   "name": "python3"
  },
  "language_info": {
   "codemirror_mode": {
    "name": "ipython",
    "version": 3
   },
   "file_extension": ".py",
   "mimetype": "text/x-python",
   "name": "python",
   "nbconvert_exporter": "python",
   "pygments_lexer": "ipython3",
   "version": "3.7.4"
  }
 },
 "nbformat": 4,
 "nbformat_minor": 2
}
