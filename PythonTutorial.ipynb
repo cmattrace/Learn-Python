{
 "cells": [
  {
   "cell_type": "markdown",
   "metadata": {},
   "source": [
    "# Getting Started With Python"
   ]
  },
  {
   "cell_type": "markdown",
   "metadata": {},
   "source": [
    "\n",
    "\n",
    "What is Python? is a widely used programming language. Its a cool language if you want to learn just for fun or if you want to build your career around Python, you will adore the language. At school level, many schools have started including Python programming for kids. With new technologies taking the market by surprise Python has been playing a dominant role.\n",
    "It is:\n",
    "1. High-Level\n",
    "2. Dynamically-Typed\n",
    "3. Strongly-Type\n",
    "4. General-Purpose\n",
    "5. Beginner Friendly"
   ]
  },
  {
   "cell_type": "markdown",
   "metadata": {},
   "source": [
    "# High-level\n",
    "Python automates low-level operations such as memory managment. It leaves the programmer with a bit less control but has many benefits including code readability and minimal code expressions. Due to abstraction, You do not have to worry about the processes in the memory beacuse it is compiled; it runs on top of the low-level programs."
   ]
  },
  {
   "cell_type": "markdown",
   "metadata": {},
   "source": [
    "# Dynamically-Typed\n",
    "\n",
    "Every variable in python can reference any type of data. A single expression may evaluate to data of different types act different times. For example:"
   ]
  },
  {
   "cell_type": "code",
   "execution_count": null,
   "metadata": {},
   "outputs": [],
   "source": [
    "\"\"\"\n",
    "In the example below x can take the place of different data type.\n",
    "X will be (10) integer, if the condition is true or\n",
    "X can 'Strings' if the condition is false.\n",
    "\"\"\"\n",
    "\n",
    "if 'something' == 'something':\n",
    "    x = 10\n",
    "else:\n",
    "    x = 'Strings goes here'\n",
    "print(x)"
   ]
  },
  {
   "cell_type": "markdown",
   "metadata": {},
   "source": [
    "# Strongly-Typed \n",
    "\n",
    "Python is case-sensitive, for instance \"cat\" and \"Cat\" refers to two entirely different objects. During program execution, you are not allowed to do anything that is not compatible with the type of data you are working with. For example, there are no hidden conversions from string to numbers; except it is explicitly casted(converted). A string made out of digits will never be treated as a number. example:"
   ]
  },
  {
   "cell_type": "code",
   "execution_count": null,
   "metadata": {},
   "outputs": [],
   "source": [
    "\"\"\"\n",
    "1 + '1'  will raise an error\n",
    "1 + int('1') will give the correct result\n",
    "\"\"\"\n",
    "print(1+int('1'))"
   ]
  },
  {
   "cell_type": "markdown",
   "metadata": {},
   "source": [
    "# General-Purpose\n",
    "\n",
    "Python is built to be used in many contexts and environments. Unlike PHP which is not a general purpose language; which is designed and used specifically as a server-side web-development scriptting language. In contract Python can be use as server-side scripting language, data management tool, network automation, desktop application development tool, games, cloud platform, mobile app development,\n",
    "BigData, IoT with Raspberry Pi, or the new Blockchain technology. Python is being seen as a niche language platform to develop and deliver a scalable and robust applications."
   ]
  },
  {
   "cell_type": "markdown",
   "metadata": {},
   "source": [
    "# Beginner's Friendly\n",
    "\n",
    "Python's syntax and structure are very intuitive(Self-explanatory). It is high level and provides contructs intended to enable writing clear programs on both a small and large scale. Python supports multiple programming paradigms, including object-oriented, and functional progeamming or procedural styles. It has a large, comprehensive standard library and many easy-to-install 3rd party libraries."
   ]
  },
  {
   "cell_type": "markdown",
   "metadata": {},
   "source": [
    "# Data Types\n",
    "\n",
    "Just as we humans classify things by their characteristics e.g Living and Non-living Things, Plant and Animals and so forth, you wiil understand that this classification enable us to know how we should interact or handle them. In the same manner Python classify its data or variables to enable it handle and interact with them properly. "
   ]
  },
  {
   "cell_type": "markdown",
   "metadata": {},
   "source": [
    "# The Major Data-Types in Python:\n",
    "1. Numbers\n",
    "2. Strings\n",
    "3. Bools\n",
    "4. Tuples\n",
    "5. Dictionary\n",
    "6. Lists\n"
   ]
  },
  {
   "cell_type": "markdown",
   "metadata": {},
   "source": [
    "# Numbers\n",
    "NUMBERS are subdivided into:\n",
    "1. INTEGER\n",
    "2. FLOATING-POINT NUMBERS\n",
    "3. COMPLEX NUMBERS"
   ]
  },
  {
   "cell_type": "markdown",
   "metadata": {},
   "source": [
    "int: Integers; These are literal of figures ranging from 0-9 with their combination without any decimal place. It can be long or short INTEGER."
   ]
  },
  {
   "cell_type": "code",
   "execution_count": null,
   "metadata": {},
   "outputs": [],
   "source": [
    "\"\"\"\n",
    "x = 1\n",
    "x = 2\n",
    "x = 3\n",
    "x = 9 \n",
    "x = 1234567890\n",
    "x = 3464875759585\n",
    "\"\"\"\n",
    "my_int = 123456789\n",
    "print(my_int)"
   ]
  },
  {
   "cell_type": "markdown",
   "metadata": {},
   "source": [
    "float: Floating-point numbers, they are literal number but the difference with INTEGER is that they are decimal placed figures."
   ]
  },
  {
   "cell_type": "code",
   "execution_count": null,
   "metadata": {},
   "outputs": [],
   "source": [
    "\"\"\"\n",
    "These are floats:\n",
    "\n",
    "x = 1.1\n",
    "x = 1.5\n",
    "x = 2.5639363983\n",
    "x = 123.89787\n",
    "\"\"\"\n",
    "my_float = 123.89787\n",
    "print(my_float)"
   ]
  },
  {
   "cell_type": "markdown",
   "metadata": {},
   "source": [
    "Complex Numbers:\n",
    "\n",
    "A complex number has both real and imaginary parts, and Python allows you to specify this data type in a very easy and convenient way."
   ]
  },
  {
   "cell_type": "code",
   "execution_count": null,
   "metadata": {},
   "outputs": [],
   "source": [
    "\"\"\"\n",
    "<YourVariable> = complex(x,y)\n",
    "location = (x,y)\n",
    "\"\"\"\n",
    "complex_num = complex(5,4)\n",
    "print(complex_num)"
   ]
  },
  {
   "cell_type": "markdown",
   "metadata": {},
   "source": [
    "# Strings\n",
    "A Python string is a contiguous sequence of Unicode characters. Single quotes or double quotes can be used to denote a string. Strings can also be denoted or written between thripple single or double quotes."
   ]
  },
  {
   "cell_type": "code",
   "execution_count": null,
   "metadata": {},
   "outputs": [],
   "source": [
    "\"\"\"\n",
    "<VariableName> = 'StringValue'\n",
    "\"\"\"\n",
    "my_string = 'Hello, World'\n",
    "\n",
    "my_string_1 = '''\n",
    "This is a multi-line string example.\n",
    "I hope you are following up with the lectures?\n",
    "Please ask questions wherever you are confused\n",
    "Thanks.\n",
    "'''\n",
    "print(my_string)\n",
    "print(my_string_1)"
   ]
  },
  {
   "cell_type": "markdown",
   "metadata": {},
   "source": [
    "# Booleans\n",
    "A Boolean data type generally has only two values 'True' or 'False'."
   ]
  },
  {
   "cell_type": "code",
   "execution_count": null,
   "metadata": {},
   "outputs": [],
   "source": [
    "\"\"\"\n",
    "Boolean example:\n",
    "\"\"\"\n",
    "isTall = True\n",
    "isFat = False\n",
    "print(isTall)\n",
    "print(isFat)"
   ]
  },
  {
   "cell_type": "markdown",
   "metadata": {},
   "source": [
    "# Variables\n",
    "So what are variables?\n",
    "Variable are like containers, they point to values stored in the memory. When you create a variable, the interpreter will reserve some space in the memory to store values. Depending on the data type of the variable, the interpreter allocates memory and makes a decision to store a particular data type in the reserved memory. Various data types, such as integers, decimals, or characters, can be stored by assigning different data types to the variables. Python variables are usually dynamically typed, that is, the type of the variable is interpreted during runtime and you need not specifically provide a type to the variable name, unlike\n",
    "what other programming languages require."
   ]
  },
  {
   "cell_type": "markdown",
   "metadata": {},
   "source": [
    "# Rules or Convention When Naming a Variable\n",
    "1. Reserved key words such as if, else, and so on cannot be used for naming variables.\n",
    "2. Variable names can begin with _, $, or a letter\n",
    "3. Variable names can be in lower case and uppercase\n",
    "4. Variable names cannot start with a number.\n",
    "5. White space characters are not allowed in the naming of a variable\n"
   ]
  },
  {
   "cell_type": "code",
   "execution_count": null,
   "metadata": {},
   "outputs": [],
   "source": [
    "print('Hello, World!')"
   ]
  },
  {
   "cell_type": "markdown",
   "metadata": {},
   "source": [
    "The program above just outputed Hello, World!, \"print( )\" is one of the built-in standard-output functions that takes  strings, variables and even other functions as arguement."
   ]
  },
  {
   "cell_type": "code",
   "execution_count": null,
   "metadata": {},
   "outputs": [],
   "source": []
  }
 ],
 "metadata": {
  "kernelspec": {
   "display_name": "Python 3",
   "language": "python",
   "name": "python3"
  },
  "language_info": {
   "codemirror_mode": {
    "name": "ipython",
    "version": 3
   },
   "file_extension": ".py",
   "mimetype": "text/x-python",
   "name": "python",
   "nbconvert_exporter": "python",
   "pygments_lexer": "ipython3",
   "version": "3.7.4"
  }
 },
 "nbformat": 4,
 "nbformat_minor": 2
}
