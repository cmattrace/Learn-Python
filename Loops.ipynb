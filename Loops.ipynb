{
 "cells": [
  {
   "cell_type": "code",
   "execution_count": null,
   "metadata": {},
   "outputs": [],
   "source": [
    "active = True\n",
    "while active:\n",
    "    msg = input(\"Say a thing: \\n\")\n",
    "    if msg == \"quit\":\n",
    "        alert = input(\"Are you sure to quit the game?: \\n\")\n",
    "        if alert.lower() == \"n\":\n",
    "            continue\n",
    "        elif alert.lower() == \"y\":\n",
    "            print(\"Quiting the game........\")\n",
    "            print(\"Bye!\")\n",
    "        active = False\n",
    "    else:\n",
    "        print(msg)"
   ]
  },
  {
   "cell_type": "code",
   "execution_count": null,
   "metadata": {},
   "outputs": [],
   "source": [
    "active = True\n",
    "while active:\n",
    "    msg = input(\"say a thing: \\n\")\n",
    "    if msg == \"quit\":\n",
    "        active = False\n",
    "    else:\n",
    "        print(msg)"
   ]
  },
  {
   "cell_type": "code",
   "execution_count": null,
   "metadata": {},
   "outputs": [],
   "source": [
    "pizza_topping = list(input())\n",
    "while \"done\" not in pizza_topping:\n",
    "    for item in pizza_topping:\n",
    "        add_item = input(\"Please add an item: \\n\")\n",
    "        if add_item not in pizza_topping:\n",
    "            pizza_topping.append(add_item)\n",
    "            if add_item == \"done\":\n",
    "                print(pizza_topping)\n",
    "                break\n",
    "        else:\n",
    "            continue\n",
    "        print(pizza_topping)\n",
    "    "
   ]
  },
  {
   "cell_type": "code",
   "execution_count": null,
   "metadata": {},
   "outputs": [],
   "source": []
  }
 ],
 "metadata": {
  "kernelspec": {
   "display_name": "Python 3",
   "language": "python",
   "name": "python3"
  },
  "language_info": {
   "codemirror_mode": {
    "name": "ipython",
    "version": 3
   },
   "file_extension": ".py",
   "mimetype": "text/x-python",
   "name": "python",
   "nbconvert_exporter": "python",
   "pygments_lexer": "ipython3",
   "version": "3.7.4"
  }
 },
 "nbformat": 4,
 "nbformat_minor": 2
}
