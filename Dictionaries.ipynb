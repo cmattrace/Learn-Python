{
 "cells": [
  {
   "cell_type": "markdown",
   "metadata": {},
   "source": [
    "# Working with Dictionaries\n",
    "In this lesson we shall working with dictionaries, what it is all about and it's application and uses."
   ]
  },
  {
   "cell_type": "code",
   "execution_count": null,
   "metadata": {},
   "outputs": [],
   "source": [
    "import json"
   ]
  },
  {
   "cell_type": "code",
   "execution_count": null,
   "metadata": {},
   "outputs": [],
   "source": [
    "with open(\"/Users/cmattrace/Desktop/student_data.json\", \"r\") as F:\n",
    "    students = json.load(F)"
   ]
  },
  {
   "cell_type": "code",
   "execution_count": null,
   "metadata": {},
   "outputs": [],
   "source": [
    "# To a get a particular student please enter his/her \"ID\" number !\n",
    "id_search = int(input(\"Enter your ID: \")) - 1\n",
    "getStudent = students[id_search]\n",
    "for k, v in getStudent.items():\n",
    "    pupil = f\"{k}: {v}\"\n",
    "    print(pupil.title())"
   ]
  },
  {
   "cell_type": "code",
   "execution_count": null,
   "metadata": {},
   "outputs": [],
   "source": [
    "for x in students:\n",
    "    print(f\"{x}\\n\")"
   ]
  },
  {
   "cell_type": "code",
   "execution_count": null,
   "metadata": {},
   "outputs": [],
   "source": [
    "for student in students:\n",
    "    for k, v in student.items():\n",
    "        pupil = f\"{k}: {v}\"\n",
    "        print(pupil)"
   ]
  },
  {
   "cell_type": "code",
   "execution_count": null,
   "metadata": {},
   "outputs": [],
   "source": [
    "favourite_lang = {\n",
    "    \"jen\": \"python\",\n",
    "    \"mike\": \"javascript\",\n",
    "    \"ella\": \"java\",\n",
    "    \"ada\": \"jquery\"\n",
    "    }"
   ]
  },
  {
   "cell_type": "code",
   "execution_count": null,
   "metadata": {
    "scrolled": true
   },
   "outputs": [],
   "source": [
    "favourite_lang['jen']"
   ]
  },
  {
   "cell_type": "code",
   "execution_count": null,
   "metadata": {},
   "outputs": [],
   "source": [
    "favourite_lang.get('ada', 'Name does not exist in the database!')"
   ]
  },
  {
   "cell_type": "code",
   "execution_count": null,
   "metadata": {},
   "outputs": [],
   "source": [
    "for person in favourite_lang:\n",
    "    lang_fav = favourite_lang.get(person, 'Not in the list')\n",
    "    print(f'{person.title()} likes {lang_fav.title()}')"
   ]
  },
  {
   "cell_type": "code",
   "execution_count": null,
   "metadata": {},
   "outputs": [],
   "source": [
    "user_data = {\n",
    "    \"userName\": \"cmattrace\",\n",
    "    \"firstName\": \"Chibuike\",\n",
    "    \"lastName\": \"Matthew\"\n",
    "}"
   ]
  },
  {
   "cell_type": "code",
   "execution_count": null,
   "metadata": {},
   "outputs": [],
   "source": [
    "for k, v in user_data.items():\n",
    "    print(f'{k}:\\t{v}')"
   ]
  },
  {
   "cell_type": "code",
   "execution_count": null,
   "metadata": {},
   "outputs": [],
   "source": [
    "fruits = [\"Apple\", \"Pear\", \"Peach\", \"Banana\"]\n",
    "\n",
    "fruit_dictionary = dict.fromkeys(fruits, \"In stock\")\n",
    "\n",
    "print(fruit_dictionary)"
   ]
  }
 ],
 "metadata": {
  "kernelspec": {
   "display_name": "Python 3",
   "language": "python",
   "name": "python3"
  },
  "language_info": {
   "codemirror_mode": {
    "name": "ipython",
    "version": 3
   },
   "file_extension": ".py",
   "mimetype": "text/x-python",
   "name": "python",
   "nbconvert_exporter": "python",
   "pygments_lexer": "ipython3",
   "version": "3.7.4"
  }
 },
 "nbformat": 4,
 "nbformat_minor": 2
}
